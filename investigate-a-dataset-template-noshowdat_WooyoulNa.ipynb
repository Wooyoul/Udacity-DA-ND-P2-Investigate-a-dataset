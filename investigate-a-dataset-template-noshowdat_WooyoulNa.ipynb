{
 "cells": [
  {
   "cell_type": "markdown",
   "metadata": {},
   "source": [
    "# Project: Investigate a Dataset  \n",
    "## No-show appointments data  \n",
    "<br>\n",
    "\n",
    "## Name: Wooyoul Na  \n",
    "## Date: 2021-03-24  \n",
    "<br>  \n",
    "\n",
    "## Table of Contents\n",
    "<ul>\n",
    "<li><a href=\"#intro\">Introduction</a></li>\n",
    "<li><a href=\"#wrangling\">Data Wrangling</a></li>\n",
    "<li><a href=\"#eda\">Exploratory Data Analysis</a></li>\n",
    "<li><a href=\"#conclusions\">Conclusions</a></li>\n",
    "</ul>"
   ]
  },
  {
   "cell_type": "markdown",
   "metadata": {},
   "source": [
    "<a id='intro'></a>\n",
    "## Introduction\n",
    "<br>  \n",
    "<br>  \n",
    "### Brief description about dataset\n",
    "<br>  \n",
    "#### Brief introduction   \n",
    "<br>  \n",
    "> **No-show appointments**  \n",
    "> <br>  \n",
    "> **file name: `noshowappointments-kagglev2-may-2016.csv`**  \n",
    "> <br>  \n",
    "> **description** : This dataset collects information from 100k medical appointments in Brazil and is focused on the question of whether or not patients show up for their appointment. A number of characteristics about the patient are included in each row.  \n",
    "> <br>  \n",
    "<br>  \n",
    "#### the meanings about features   \n",
    "<br>  \n",
    "> The raw-data **originally** contains following features :  \n",
    "> <br>  \n",
    "> + **PatientId** : the unique keys for each patients  \n",
    "> + **AppointmentID** : the unique keys for the appointment  \t\n",
    "> + **Gender** : the gender of patients(F/M)  \n",
    "> + **ScheduledDay** : what day the patient set up their appointment\n",
    "> + **AppointmentDay** : what day the patient actually have to go to the hospital  \n",
    "> + **Age** : the age of patients  \n",
    "> + **Neighbourhood** : the location of the hospital\n",
    "> + **Scholarship** : whether or not the patient is enrolled in Brasilian welfare program Bolsa Família\n",
    "> + **Hipertension** : the patients have hipertension or not  \n",
    "> + **Diabetes** : the patients have diabetes or not \n",
    "> + **Alcoholism** : the patients have alcoholism or not\n",
    "> + **Handcap**: the patients have handcap or not\n",
    "> + **SMS_received** : whether the patients have received the SMS message or not\n",
    "> + **No-show** : if the patient showed up to their appointment, the value is \"No\", and if the patient didn't show up to their appointment, the value is \"Yes\".  \n",
    "> <br>  \n",
    "> Additionaly, the following features have been **newly created** for this project :  \n",
    "> <br>  \n",
    "> + **duration** : the difference from the scheduled day to appointment day(unit: days)  \n",
    "> + **no_prior_noshow_rate** : the proportion of the prior no-show appointment rate by each patient\n",
    "<br>  \n"
   ]
  },
  {
   "cell_type": "markdown",
   "metadata": {},
   "source": [
    "### Questions:  \n",
    "<br>  \n",
    ">  + **Q1**. Is there gender differences on whether the patients attending the appointment or not?  \n",
    "> <br>  \n",
    ">  + **Q2**. Is there any impact the patients' age on whether the patients attending the appointment or not?  \n",
    "> <br>  \n",
    ">  + **Q3**. is there any impacts whether the patient have received SMS messages or not on the patients attending the appointment or not?  \n",
    "> <br>  \n",
    ">  + **Q4**. Is there any impact the duration from scheduled day to appointment day on whether the patients attending the appointment or not?  \n",
    "> <br>  \n",
    ">  + **Q5**. Is there any impact the prior no-show rate of the patients on whether the patients attending the appointment or not?  \n",
    "> <br>  "
   ]
  },
  {
   "cell_type": "code",
   "execution_count": 1,
   "metadata": {},
   "outputs": [],
   "source": [
    "## import packages\n",
    "import pandas as pd\n",
    "import numpy as np\n",
    "import matplotlib.pyplot as plt\n",
    "import seaborn as sns"
   ]
  },
  {
   "cell_type": "markdown",
   "metadata": {},
   "source": [
    "<a id='wrangling'></a>\n",
    "## Data Wrangling\n",
    "\n",
    "\n",
    "### General Properties\n",
    "\n",
    "> + In this section,  following tasks have been processed to investigate about the dataset.  \n",
    ">   + (1) Data loading  \n",
    ">   + (2) Glance a first few lines of the data  \n",
    ">   + (3) View the shape of the data\n",
    ">   + (4) View the column names of the data\n",
    ">   + (5) Check the types of values in each columns  \n",
    ">   + (6) Check whether any invalid records have been contained in the data\n",
    ">   + (7) Check whether any missing values have been contained in the data\n",
    ">   + (8) Check whether any duplicated rows have been contained in the data\n"
   ]
  },
  {
   "cell_type": "markdown",
   "metadata": {
    "collapsed": true
   },
   "source": [
    "#### (1) Data loading: no-show data"
   ]
  },
  {
   "cell_type": "code",
   "execution_count": 2,
   "metadata": {},
   "outputs": [],
   "source": [
    "## data loading: no-show data\n",
    "noshow_dt = pd.read_csv('noshowappointments-kagglev2-may-2016.csv')"
   ]
  },
  {
   "cell_type": "markdown",
   "metadata": {},
   "source": [
    "#### (2) Glance a few lines of the data"
   ]
  },
  {
   "cell_type": "code",
   "execution_count": 3,
   "metadata": {},
   "outputs": [
    {
     "data": {
      "text/html": [
       "<div>\n",
       "<style scoped>\n",
       "    .dataframe tbody tr th:only-of-type {\n",
       "        vertical-align: middle;\n",
       "    }\n",
       "\n",
       "    .dataframe tbody tr th {\n",
       "        vertical-align: top;\n",
       "    }\n",
       "\n",
       "    .dataframe thead th {\n",
       "        text-align: right;\n",
       "    }\n",
       "</style>\n",
       "<table border=\"1\" class=\"dataframe\">\n",
       "  <thead>\n",
       "    <tr style=\"text-align: right;\">\n",
       "      <th></th>\n",
       "      <th>PatientId</th>\n",
       "      <th>AppointmentID</th>\n",
       "      <th>Gender</th>\n",
       "      <th>ScheduledDay</th>\n",
       "      <th>AppointmentDay</th>\n",
       "      <th>Age</th>\n",
       "      <th>Neighbourhood</th>\n",
       "      <th>Scholarship</th>\n",
       "      <th>Hipertension</th>\n",
       "      <th>Diabetes</th>\n",
       "      <th>Alcoholism</th>\n",
       "      <th>Handcap</th>\n",
       "      <th>SMS_received</th>\n",
       "      <th>No-show</th>\n",
       "    </tr>\n",
       "  </thead>\n",
       "  <tbody>\n",
       "    <tr>\n",
       "      <th>0</th>\n",
       "      <td>2.987250e+13</td>\n",
       "      <td>5642903</td>\n",
       "      <td>F</td>\n",
       "      <td>2016-04-29T18:38:08Z</td>\n",
       "      <td>2016-04-29T00:00:00Z</td>\n",
       "      <td>62</td>\n",
       "      <td>JARDIM DA PENHA</td>\n",
       "      <td>0</td>\n",
       "      <td>1</td>\n",
       "      <td>0</td>\n",
       "      <td>0</td>\n",
       "      <td>0</td>\n",
       "      <td>0</td>\n",
       "      <td>No</td>\n",
       "    </tr>\n",
       "    <tr>\n",
       "      <th>1</th>\n",
       "      <td>5.589978e+14</td>\n",
       "      <td>5642503</td>\n",
       "      <td>M</td>\n",
       "      <td>2016-04-29T16:08:27Z</td>\n",
       "      <td>2016-04-29T00:00:00Z</td>\n",
       "      <td>56</td>\n",
       "      <td>JARDIM DA PENHA</td>\n",
       "      <td>0</td>\n",
       "      <td>0</td>\n",
       "      <td>0</td>\n",
       "      <td>0</td>\n",
       "      <td>0</td>\n",
       "      <td>0</td>\n",
       "      <td>No</td>\n",
       "    </tr>\n",
       "    <tr>\n",
       "      <th>2</th>\n",
       "      <td>4.262962e+12</td>\n",
       "      <td>5642549</td>\n",
       "      <td>F</td>\n",
       "      <td>2016-04-29T16:19:04Z</td>\n",
       "      <td>2016-04-29T00:00:00Z</td>\n",
       "      <td>62</td>\n",
       "      <td>MATA DA PRAIA</td>\n",
       "      <td>0</td>\n",
       "      <td>0</td>\n",
       "      <td>0</td>\n",
       "      <td>0</td>\n",
       "      <td>0</td>\n",
       "      <td>0</td>\n",
       "      <td>No</td>\n",
       "    </tr>\n",
       "    <tr>\n",
       "      <th>3</th>\n",
       "      <td>8.679512e+11</td>\n",
       "      <td>5642828</td>\n",
       "      <td>F</td>\n",
       "      <td>2016-04-29T17:29:31Z</td>\n",
       "      <td>2016-04-29T00:00:00Z</td>\n",
       "      <td>8</td>\n",
       "      <td>PONTAL DE CAMBURI</td>\n",
       "      <td>0</td>\n",
       "      <td>0</td>\n",
       "      <td>0</td>\n",
       "      <td>0</td>\n",
       "      <td>0</td>\n",
       "      <td>0</td>\n",
       "      <td>No</td>\n",
       "    </tr>\n",
       "    <tr>\n",
       "      <th>4</th>\n",
       "      <td>8.841186e+12</td>\n",
       "      <td>5642494</td>\n",
       "      <td>F</td>\n",
       "      <td>2016-04-29T16:07:23Z</td>\n",
       "      <td>2016-04-29T00:00:00Z</td>\n",
       "      <td>56</td>\n",
       "      <td>JARDIM DA PENHA</td>\n",
       "      <td>0</td>\n",
       "      <td>1</td>\n",
       "      <td>1</td>\n",
       "      <td>0</td>\n",
       "      <td>0</td>\n",
       "      <td>0</td>\n",
       "      <td>No</td>\n",
       "    </tr>\n",
       "  </tbody>\n",
       "</table>\n",
       "</div>"
      ],
      "text/plain": [
       "      PatientId  AppointmentID Gender          ScheduledDay  \\\n",
       "0  2.987250e+13        5642903      F  2016-04-29T18:38:08Z   \n",
       "1  5.589978e+14        5642503      M  2016-04-29T16:08:27Z   \n",
       "2  4.262962e+12        5642549      F  2016-04-29T16:19:04Z   \n",
       "3  8.679512e+11        5642828      F  2016-04-29T17:29:31Z   \n",
       "4  8.841186e+12        5642494      F  2016-04-29T16:07:23Z   \n",
       "\n",
       "         AppointmentDay  Age      Neighbourhood  Scholarship  Hipertension  \\\n",
       "0  2016-04-29T00:00:00Z   62    JARDIM DA PENHA            0             1   \n",
       "1  2016-04-29T00:00:00Z   56    JARDIM DA PENHA            0             0   \n",
       "2  2016-04-29T00:00:00Z   62      MATA DA PRAIA            0             0   \n",
       "3  2016-04-29T00:00:00Z    8  PONTAL DE CAMBURI            0             0   \n",
       "4  2016-04-29T00:00:00Z   56    JARDIM DA PENHA            0             1   \n",
       "\n",
       "   Diabetes  Alcoholism  Handcap  SMS_received No-show  \n",
       "0         0           0        0             0      No  \n",
       "1         0           0        0             0      No  \n",
       "2         0           0        0             0      No  \n",
       "3         0           0        0             0      No  \n",
       "4         1           0        0             0      No  "
      ]
     },
     "execution_count": 3,
     "metadata": {},
     "output_type": "execute_result"
    }
   ],
   "source": [
    "## print out a few lines\n",
    "noshow_dt.head()"
   ]
  },
  {
   "cell_type": "markdown",
   "metadata": {},
   "source": [
    "#### (3) The shape of the data"
   ]
  },
  {
   "cell_type": "code",
   "execution_count": 4,
   "metadata": {},
   "outputs": [
    {
     "data": {
      "text/plain": [
       "(110527, 14)"
      ]
     },
     "execution_count": 4,
     "metadata": {},
     "output_type": "execute_result"
    }
   ],
   "source": [
    "## shape of no-show data\n",
    "noshow_dt.shape"
   ]
  },
  {
   "cell_type": "markdown",
   "metadata": {},
   "source": [
    "> + the raw data contains 110,527 rows and 14 columns"
   ]
  },
  {
   "cell_type": "markdown",
   "metadata": {},
   "source": [
    "#### (4) The column names in the raw data"
   ]
  },
  {
   "cell_type": "code",
   "execution_count": 5,
   "metadata": {},
   "outputs": [
    {
     "data": {
      "text/plain": [
       "Index(['PatientId', 'AppointmentID', 'Gender', 'ScheduledDay',\n",
       "       'AppointmentDay', 'Age', 'Neighbourhood', 'Scholarship', 'Hipertension',\n",
       "       'Diabetes', 'Alcoholism', 'Handcap', 'SMS_received', 'No-show'],\n",
       "      dtype='object')"
      ]
     },
     "execution_count": 5,
     "metadata": {},
     "output_type": "execute_result"
    }
   ],
   "source": [
    "## column names in the data\n",
    "noshow_dt.columns"
   ]
  },
  {
   "cell_type": "markdown",
   "metadata": {},
   "source": [
    "#### (5) The types of values in each columns"
   ]
  },
  {
   "cell_type": "code",
   "execution_count": 6,
   "metadata": {},
   "outputs": [
    {
     "name": "stdout",
     "output_type": "stream",
     "text": [
      "<class 'pandas.core.frame.DataFrame'>\n",
      "RangeIndex: 110527 entries, 0 to 110526\n",
      "Data columns (total 14 columns):\n",
      "PatientId         110527 non-null float64\n",
      "AppointmentID     110527 non-null int64\n",
      "Gender            110527 non-null object\n",
      "ScheduledDay      110527 non-null object\n",
      "AppointmentDay    110527 non-null object\n",
      "Age               110527 non-null int64\n",
      "Neighbourhood     110527 non-null object\n",
      "Scholarship       110527 non-null int64\n",
      "Hipertension      110527 non-null int64\n",
      "Diabetes          110527 non-null int64\n",
      "Alcoholism        110527 non-null int64\n",
      "Handcap           110527 non-null int64\n",
      "SMS_received      110527 non-null int64\n",
      "No-show           110527 non-null object\n",
      "dtypes: float64(1), int64(8), object(5)\n",
      "memory usage: 11.8+ MB\n"
     ]
    }
   ],
   "source": [
    "## dtypes for columns: .info()\n",
    "noshow_dt.info()\n"
   ]
  },
  {
   "cell_type": "code",
   "execution_count": null,
   "metadata": {},
   "outputs": [],
   "source": []
  },
  {
   "cell_type": "markdown",
   "metadata": {},
   "source": [
    "#### (6) Check whether any invalid records have been contained in the data"
   ]
  },
  {
   "cell_type": "code",
   "execution_count": 7,
   "metadata": {},
   "outputs": [
    {
     "data": {
      "text/html": [
       "<div>\n",
       "<style scoped>\n",
       "    .dataframe tbody tr th:only-of-type {\n",
       "        vertical-align: middle;\n",
       "    }\n",
       "\n",
       "    .dataframe tbody tr th {\n",
       "        vertical-align: top;\n",
       "    }\n",
       "\n",
       "    .dataframe thead th {\n",
       "        text-align: right;\n",
       "    }\n",
       "</style>\n",
       "<table border=\"1\" class=\"dataframe\">\n",
       "  <thead>\n",
       "    <tr style=\"text-align: right;\">\n",
       "      <th></th>\n",
       "      <th>Age</th>\n",
       "      <th>Scholarship</th>\n",
       "      <th>Hipertension</th>\n",
       "      <th>Diabetes</th>\n",
       "      <th>Alcoholism</th>\n",
       "      <th>Handcap</th>\n",
       "      <th>SMS_received</th>\n",
       "    </tr>\n",
       "  </thead>\n",
       "  <tbody>\n",
       "    <tr>\n",
       "      <th>count</th>\n",
       "      <td>110527.000000</td>\n",
       "      <td>110527.000000</td>\n",
       "      <td>110527.000000</td>\n",
       "      <td>110527.000000</td>\n",
       "      <td>110527.000000</td>\n",
       "      <td>110527.000000</td>\n",
       "      <td>110527.000000</td>\n",
       "    </tr>\n",
       "    <tr>\n",
       "      <th>mean</th>\n",
       "      <td>37.088874</td>\n",
       "      <td>0.098266</td>\n",
       "      <td>0.197246</td>\n",
       "      <td>0.071865</td>\n",
       "      <td>0.030400</td>\n",
       "      <td>0.022248</td>\n",
       "      <td>0.321026</td>\n",
       "    </tr>\n",
       "    <tr>\n",
       "      <th>std</th>\n",
       "      <td>23.110205</td>\n",
       "      <td>0.297675</td>\n",
       "      <td>0.397921</td>\n",
       "      <td>0.258265</td>\n",
       "      <td>0.171686</td>\n",
       "      <td>0.161543</td>\n",
       "      <td>0.466873</td>\n",
       "    </tr>\n",
       "    <tr>\n",
       "      <th>min</th>\n",
       "      <td>-1.000000</td>\n",
       "      <td>0.000000</td>\n",
       "      <td>0.000000</td>\n",
       "      <td>0.000000</td>\n",
       "      <td>0.000000</td>\n",
       "      <td>0.000000</td>\n",
       "      <td>0.000000</td>\n",
       "    </tr>\n",
       "    <tr>\n",
       "      <th>25%</th>\n",
       "      <td>18.000000</td>\n",
       "      <td>0.000000</td>\n",
       "      <td>0.000000</td>\n",
       "      <td>0.000000</td>\n",
       "      <td>0.000000</td>\n",
       "      <td>0.000000</td>\n",
       "      <td>0.000000</td>\n",
       "    </tr>\n",
       "    <tr>\n",
       "      <th>50%</th>\n",
       "      <td>37.000000</td>\n",
       "      <td>0.000000</td>\n",
       "      <td>0.000000</td>\n",
       "      <td>0.000000</td>\n",
       "      <td>0.000000</td>\n",
       "      <td>0.000000</td>\n",
       "      <td>0.000000</td>\n",
       "    </tr>\n",
       "    <tr>\n",
       "      <th>75%</th>\n",
       "      <td>55.000000</td>\n",
       "      <td>0.000000</td>\n",
       "      <td>0.000000</td>\n",
       "      <td>0.000000</td>\n",
       "      <td>0.000000</td>\n",
       "      <td>0.000000</td>\n",
       "      <td>1.000000</td>\n",
       "    </tr>\n",
       "    <tr>\n",
       "      <th>max</th>\n",
       "      <td>115.000000</td>\n",
       "      <td>1.000000</td>\n",
       "      <td>1.000000</td>\n",
       "      <td>1.000000</td>\n",
       "      <td>1.000000</td>\n",
       "      <td>4.000000</td>\n",
       "      <td>1.000000</td>\n",
       "    </tr>\n",
       "  </tbody>\n",
       "</table>\n",
       "</div>"
      ],
      "text/plain": [
       "                 Age    Scholarship   Hipertension       Diabetes  \\\n",
       "count  110527.000000  110527.000000  110527.000000  110527.000000   \n",
       "mean       37.088874       0.098266       0.197246       0.071865   \n",
       "std        23.110205       0.297675       0.397921       0.258265   \n",
       "min        -1.000000       0.000000       0.000000       0.000000   \n",
       "25%        18.000000       0.000000       0.000000       0.000000   \n",
       "50%        37.000000       0.000000       0.000000       0.000000   \n",
       "75%        55.000000       0.000000       0.000000       0.000000   \n",
       "max       115.000000       1.000000       1.000000       1.000000   \n",
       "\n",
       "          Alcoholism        Handcap   SMS_received  \n",
       "count  110527.000000  110527.000000  110527.000000  \n",
       "mean        0.030400       0.022248       0.321026  \n",
       "std         0.171686       0.161543       0.466873  \n",
       "min         0.000000       0.000000       0.000000  \n",
       "25%         0.000000       0.000000       0.000000  \n",
       "50%         0.000000       0.000000       0.000000  \n",
       "75%         0.000000       0.000000       1.000000  \n",
       "max         1.000000       4.000000       1.000000  "
      ]
     },
     "execution_count": 7,
     "metadata": {},
     "output_type": "execute_result"
    }
   ],
   "source": [
    "## 1. summary statistics for continuous features except ID columns in the raw-data\n",
    "noshow_dt.iloc[:,2:].describe()"
   ]
  },
  {
   "cell_type": "code",
   "execution_count": 8,
   "metadata": {},
   "outputs": [
    {
     "name": "stdout",
     "output_type": "stream",
     "text": [
      "Gender: ['F' 'M']\n",
      "ScheduledDay: ['2016-04-29T18:38:08Z' '2016-04-29T16:08:27Z' '2016-04-29T16:19:04Z' ...\n",
      " '2016-04-27T16:03:52Z' '2016-04-27T15:09:23Z' '2016-04-27T13:30:56Z']\n",
      "AppointmentDay: ['2016-04-29T00:00:00Z' '2016-05-03T00:00:00Z' '2016-05-10T00:00:00Z'\n",
      " '2016-05-17T00:00:00Z' '2016-05-24T00:00:00Z' '2016-05-31T00:00:00Z'\n",
      " '2016-05-02T00:00:00Z' '2016-05-30T00:00:00Z' '2016-05-16T00:00:00Z'\n",
      " '2016-05-04T00:00:00Z' '2016-05-19T00:00:00Z' '2016-05-12T00:00:00Z'\n",
      " '2016-05-06T00:00:00Z' '2016-05-20T00:00:00Z' '2016-05-05T00:00:00Z'\n",
      " '2016-05-13T00:00:00Z' '2016-05-09T00:00:00Z' '2016-05-25T00:00:00Z'\n",
      " '2016-05-11T00:00:00Z' '2016-05-18T00:00:00Z' '2016-05-14T00:00:00Z'\n",
      " '2016-06-02T00:00:00Z' '2016-06-03T00:00:00Z' '2016-06-06T00:00:00Z'\n",
      " '2016-06-07T00:00:00Z' '2016-06-01T00:00:00Z' '2016-06-08T00:00:00Z']\n",
      "Age: [ 62  56   8  76  23  39  21  19  30  29  22  28  54  15  50  40  46   4\n",
      "  13  65  45  51  32  12  61  38  79  18  63  64  85  59  55  71  49  78\n",
      "  31  58  27   6   2  11   7   0   3   1  69  68  60  67  36  10  35  20\n",
      "  26  34  33  16  42   5  47  17  41  44  37  24  66  77  81  70  53  75\n",
      "  73  52  74  43  89  57  14   9  48  83  72  25  80  87  88  84  82  90\n",
      "  94  86  91  98  92  96  93  95  97 102 115 100  99  -1]\n",
      "Neighbourhood: ['JARDIM DA PENHA' 'MATA DA PRAIA' 'PONTAL DE CAMBURI' 'REPÚBLICA'\n",
      " 'GOIABEIRAS' 'ANDORINHAS' 'CONQUISTA' 'NOVA PALESTINA' 'DA PENHA'\n",
      " 'TABUAZEIRO' 'BENTO FERREIRA' 'SÃO PEDRO' 'SANTA MARTHA' 'SÃO CRISTÓVÃO'\n",
      " 'MARUÍPE' 'GRANDE VITÓRIA' 'SÃO BENEDITO' 'ILHA DAS CAIEIRAS'\n",
      " 'SANTO ANDRÉ' 'SOLON BORGES' 'BONFIM' 'JARDIM CAMBURI' 'MARIA ORTIZ'\n",
      " 'JABOUR' 'ANTÔNIO HONÓRIO' 'RESISTÊNCIA' 'ILHA DE SANTA MARIA'\n",
      " 'JUCUTUQUARA' 'MONTE BELO' 'MÁRIO CYPRESTE' 'SANTO ANTÔNIO' 'BELA VISTA'\n",
      " 'PRAIA DO SUÁ' 'SANTA HELENA' 'ITARARÉ' 'INHANGUETÁ' 'UNIVERSITÁRIO'\n",
      " 'SÃO JOSÉ' 'REDENÇÃO' 'SANTA CLARA' 'CENTRO' 'PARQUE MOSCOSO'\n",
      " 'DO MOSCOSO' 'SANTOS DUMONT' 'CARATOÍRA' 'ARIOVALDO FAVALESSA'\n",
      " 'ILHA DO FRADE' 'GURIGICA' 'JOANA D´ARC' 'CONSOLAÇÃO' 'PRAIA DO CANTO'\n",
      " 'BOA VISTA' 'MORADA DE CAMBURI' 'SANTA LUÍZA' 'SANTA LÚCIA'\n",
      " 'BARRO VERMELHO' 'ESTRELINHA' 'FORTE SÃO JOÃO' 'FONTE GRANDE'\n",
      " 'ENSEADA DO SUÁ' 'SANTOS REIS' 'PIEDADE' 'JESUS DE NAZARETH'\n",
      " 'SANTA TEREZA' 'CRUZAMENTO' 'ILHA DO PRÍNCIPE' 'ROMÃO' 'COMDUSA'\n",
      " 'SANTA CECÍLIA' 'VILA RUBIM' 'DE LOURDES' 'DO QUADRO' 'DO CABRAL' 'HORTO'\n",
      " 'SEGURANÇA DO LAR' 'ILHA DO BOI' 'FRADINHOS' 'NAZARETH' 'AEROPORTO'\n",
      " 'ILHAS OCEÂNICAS DE TRINDADE' 'PARQUE INDUSTRIAL']\n",
      "Scholarship: [0 1]\n",
      "Hipertension: [1 0]\n",
      "Diabetes: [0 1]\n",
      "Alcoholism: [0 1]\n",
      "Handcap: [0 1 2 3 4]\n",
      "SMS_received: [0 1]\n",
      "No-show: ['No' 'Yes']\n"
     ]
    }
   ],
   "source": [
    "## 2. unique values for each features except ID columns\n",
    "for feature in noshow_dt.columns[2:]:\n",
    "    print(str(feature)+\": \"+ str(noshow_dt[feature].unique()))"
   ]
  },
  {
   "cell_type": "code",
   "execution_count": 9,
   "metadata": {},
   "outputs": [
    {
     "name": "stdout",
     "output_type": "stream",
     "text": [
      "Negative Age: 1\n"
     ]
    }
   ],
   "source": [
    "## 3. chech the number of cases which are negative age\n",
    "print(\"Negative Age: \"+str(len(noshow_dt.query('Age<0'))))"
   ]
  },
  {
   "cell_type": "code",
   "execution_count": 10,
   "metadata": {},
   "outputs": [
    {
     "name": "stdout",
     "output_type": "stream",
     "text": [
      "scheduled day > appointment day: 5\n"
     ]
    }
   ],
   "source": [
    "## 4. Check whether any cases \n",
    "## which the scheduled date are after the appointment date have been contained in the data\n",
    "\n",
    "invalid_date = pd.to_datetime(noshow_dt['ScheduledDay']).dt.date > pd.to_datetime(noshow_dt['AppointmentDay']).dt.date\n",
    "\n",
    "print(\"scheduled day > appointment day: \"+str(invalid_date.sum()))"
   ]
  },
  {
   "cell_type": "markdown",
   "metadata": {},
   "source": [
    "> + As we can see, There are some invalid values in the raw-data.  \n",
    "> <br>  \n",
    "> + For example, **1 case** which is **negative age(Age<0)** could be seen as invalid.  \n",
    "> <br>  \n",
    "> + Also, **5 cases** which **scheduled days were after appointment days** were contained in the raw data.  \n",
    "> <br>  \n",
    "> + These cases could be seen as invalid because it is non-logical case that scheduled days are after appointment days.  "
   ]
  },
  {
   "cell_type": "markdown",
   "metadata": {},
   "source": [
    "#### (7) Check whether the missing values have been contained in the raw data"
   ]
  },
  {
   "cell_type": "code",
   "execution_count": 11,
   "metadata": {},
   "outputs": [
    {
     "data": {
      "text/plain": [
       "PatientId         0\n",
       "AppointmentID     0\n",
       "Gender            0\n",
       "ScheduledDay      0\n",
       "AppointmentDay    0\n",
       "Age               0\n",
       "Neighbourhood     0\n",
       "Scholarship       0\n",
       "Hipertension      0\n",
       "Diabetes          0\n",
       "Alcoholism        0\n",
       "Handcap           0\n",
       "SMS_received      0\n",
       "No-show           0\n",
       "dtype: int64"
      ]
     },
     "execution_count": 11,
     "metadata": {},
     "output_type": "execute_result"
    }
   ],
   "source": [
    "### check about missing values\n",
    "noshow_dt.isna().sum()"
   ]
  },
  {
   "cell_type": "markdown",
   "metadata": {},
   "source": [
    "> + There is **no missing values** in the raw data.  \n",
    "> <br>  \n"
   ]
  },
  {
   "cell_type": "markdown",
   "metadata": {},
   "source": [
    "#### (8) Check whether the duplicated rows have been contained in the raw data"
   ]
  },
  {
   "cell_type": "code",
   "execution_count": 12,
   "metadata": {},
   "outputs": [
    {
     "name": "stdout",
     "output_type": "stream",
     "text": [
      "completely duplicated: 0\n",
      "duplicated PatientId * AppointmentID: 0\n",
      "unique PatientId: 62299\n"
     ]
    }
   ],
   "source": [
    "## confirm duplicated rows\n",
    "print(\"completely duplicated: \"+str(noshow_dt.duplicated().sum())+\"\\n\"+\n",
    "     \"duplicated PatientId * AppointmentID: \"+str(noshow_dt.duplicated(['PatientId','AppointmentID']).sum())+\"\\n\"+\n",
    "     \"unique PatientId: \"+str(len(noshow_dt['PatientId'].unique())))"
   ]
  },
  {
   "cell_type": "markdown",
   "metadata": {},
   "source": [
    "> + The raw data has not contains any duplicated rows  \n",
    "> <br>  \n",
    "> + But, the number of unique `PatientId`s is smaller than the number of rows. Therefore, it can be seen as there are recorded more than one appointment for one patient in the data.  \n",
    "> <br>  \n",
    "> + Although it's not abnormal to record more than one appointment for one patient in the data, but it could be considered while proceed data cleaning.  \n",
    "> <br>  \n",
    "> + For example, it can be created the new feature which means the number of prior appointments by one patients.  \n",
    "> <br>"
   ]
  },
  {
   "cell_type": "markdown",
   "metadata": {},
   "source": [
    "### Data Cleaning (Replace this with more specific notes!)"
   ]
  },
  {
   "cell_type": "code",
   "execution_count": null,
   "metadata": {},
   "outputs": [],
   "source": [
    "# After discussing the structure of the data and any problems that need to be\n",
    "#   cleaned, perform those cleaning steps in the second part of this section."
   ]
  },
  {
   "cell_type": "markdown",
   "metadata": {},
   "source": [
    "> After glancing the raw-data, I think that the following tasks would be needed.\n",
    "> <br>  \n",
    "> <br>  \n",
    "> + **(1) Convert the dtypes of some features**  \n",
    ">  + `ScheduledDay`, `AppointmentDay` : from string to datetime  \n",
    "> <br>  \n",
    "> + **(2) Delete some rows which contains invalid values**  \n",
    ">  + the cases which **negative age** could be invalid.  \n",
    ">  + the cases which **scheduled dates were after the appointment dates** could be invalid.  \n",
    "> <br>  \n",
    "> + **(3) Create some additional features**   \n",
    ">  + `duration`: the duration from the appointment day to scheduled day  \n",
    ">  + `no_prior_noshow_rate`: the rate of prior no-show appointments by each patients  \n",
    "> <br>  "
   ]
  },
  {
   "cell_type": "markdown",
   "metadata": {},
   "source": [
    "#### (1) Convert the dtypes of some features"
   ]
  },
  {
   "cell_type": "code",
   "execution_count": 13,
   "metadata": {},
   "outputs": [
    {
     "name": "stdout",
     "output_type": "stream",
     "text": [
      "type of Scheduled Day: <class 'datetime.date'>\n",
      "type of Appointment Day: <class 'datetime.date'>\n"
     ]
    }
   ],
   "source": [
    "## convert to datetime: ScheduledDay\n",
    "noshow_dt['ScheduledDay'] = pd.to_datetime(noshow_dt['ScheduledDay']).dt.date\n",
    "\n",
    "## convert to datetime: AppointmentDay\n",
    "noshow_dt['AppointmentDay'] = pd.to_datetime(noshow_dt['AppointmentDay']).dt.date\n",
    "\n",
    "## check the result\n",
    "print(\"type of Scheduled Day: \" + str(type(noshow_dt['ScheduledDay'][0])))\n",
    "print(\"type of Appointment Day: \" + str(type(noshow_dt['AppointmentDay'][0])))"
   ]
  },
  {
   "cell_type": "markdown",
   "metadata": {},
   "source": [
    "#### (2) Delete some rows which contains invalid values"
   ]
  },
  {
   "cell_type": "code",
   "execution_count": 14,
   "metadata": {},
   "outputs": [
    {
     "data": {
      "text/plain": [
       "1"
      ]
     },
     "execution_count": 14,
     "metadata": {},
     "output_type": "execute_result"
    }
   ],
   "source": [
    "## check the number of invalid age\n",
    "len(noshow_dt.query('Age < 0'))"
   ]
  },
  {
   "cell_type": "code",
   "execution_count": 15,
   "metadata": {},
   "outputs": [
    {
     "name": "stdout",
     "output_type": "stream",
     "text": [
      "the number of cases after deleting invalid age: 110526\n"
     ]
    },
    {
     "data": {
      "text/html": [
       "<div>\n",
       "<style scoped>\n",
       "    .dataframe tbody tr th:only-of-type {\n",
       "        vertical-align: middle;\n",
       "    }\n",
       "\n",
       "    .dataframe tbody tr th {\n",
       "        vertical-align: top;\n",
       "    }\n",
       "\n",
       "    .dataframe thead th {\n",
       "        text-align: right;\n",
       "    }\n",
       "</style>\n",
       "<table border=\"1\" class=\"dataframe\">\n",
       "  <thead>\n",
       "    <tr style=\"text-align: right;\">\n",
       "      <th></th>\n",
       "      <th>PatientId</th>\n",
       "      <th>AppointmentID</th>\n",
       "      <th>Gender</th>\n",
       "      <th>ScheduledDay</th>\n",
       "      <th>AppointmentDay</th>\n",
       "      <th>Age</th>\n",
       "      <th>Neighbourhood</th>\n",
       "      <th>Scholarship</th>\n",
       "      <th>Hipertension</th>\n",
       "      <th>Diabetes</th>\n",
       "      <th>Alcoholism</th>\n",
       "      <th>Handcap</th>\n",
       "      <th>SMS_received</th>\n",
       "      <th>No-show</th>\n",
       "    </tr>\n",
       "  </thead>\n",
       "  <tbody>\n",
       "    <tr>\n",
       "      <th>0</th>\n",
       "      <td>2.987250e+13</td>\n",
       "      <td>5642903</td>\n",
       "      <td>F</td>\n",
       "      <td>2016-04-29</td>\n",
       "      <td>2016-04-29</td>\n",
       "      <td>62</td>\n",
       "      <td>JARDIM DA PENHA</td>\n",
       "      <td>0</td>\n",
       "      <td>1</td>\n",
       "      <td>0</td>\n",
       "      <td>0</td>\n",
       "      <td>0</td>\n",
       "      <td>0</td>\n",
       "      <td>No</td>\n",
       "    </tr>\n",
       "    <tr>\n",
       "      <th>1</th>\n",
       "      <td>5.589978e+14</td>\n",
       "      <td>5642503</td>\n",
       "      <td>M</td>\n",
       "      <td>2016-04-29</td>\n",
       "      <td>2016-04-29</td>\n",
       "      <td>56</td>\n",
       "      <td>JARDIM DA PENHA</td>\n",
       "      <td>0</td>\n",
       "      <td>0</td>\n",
       "      <td>0</td>\n",
       "      <td>0</td>\n",
       "      <td>0</td>\n",
       "      <td>0</td>\n",
       "      <td>No</td>\n",
       "    </tr>\n",
       "    <tr>\n",
       "      <th>2</th>\n",
       "      <td>4.262962e+12</td>\n",
       "      <td>5642549</td>\n",
       "      <td>F</td>\n",
       "      <td>2016-04-29</td>\n",
       "      <td>2016-04-29</td>\n",
       "      <td>62</td>\n",
       "      <td>MATA DA PRAIA</td>\n",
       "      <td>0</td>\n",
       "      <td>0</td>\n",
       "      <td>0</td>\n",
       "      <td>0</td>\n",
       "      <td>0</td>\n",
       "      <td>0</td>\n",
       "      <td>No</td>\n",
       "    </tr>\n",
       "    <tr>\n",
       "      <th>3</th>\n",
       "      <td>8.679512e+11</td>\n",
       "      <td>5642828</td>\n",
       "      <td>F</td>\n",
       "      <td>2016-04-29</td>\n",
       "      <td>2016-04-29</td>\n",
       "      <td>8</td>\n",
       "      <td>PONTAL DE CAMBURI</td>\n",
       "      <td>0</td>\n",
       "      <td>0</td>\n",
       "      <td>0</td>\n",
       "      <td>0</td>\n",
       "      <td>0</td>\n",
       "      <td>0</td>\n",
       "      <td>No</td>\n",
       "    </tr>\n",
       "    <tr>\n",
       "      <th>4</th>\n",
       "      <td>8.841186e+12</td>\n",
       "      <td>5642494</td>\n",
       "      <td>F</td>\n",
       "      <td>2016-04-29</td>\n",
       "      <td>2016-04-29</td>\n",
       "      <td>56</td>\n",
       "      <td>JARDIM DA PENHA</td>\n",
       "      <td>0</td>\n",
       "      <td>1</td>\n",
       "      <td>1</td>\n",
       "      <td>0</td>\n",
       "      <td>0</td>\n",
       "      <td>0</td>\n",
       "      <td>No</td>\n",
       "    </tr>\n",
       "  </tbody>\n",
       "</table>\n",
       "</div>"
      ],
      "text/plain": [
       "      PatientId  AppointmentID Gender ScheduledDay AppointmentDay  Age  \\\n",
       "0  2.987250e+13        5642903      F   2016-04-29     2016-04-29   62   \n",
       "1  5.589978e+14        5642503      M   2016-04-29     2016-04-29   56   \n",
       "2  4.262962e+12        5642549      F   2016-04-29     2016-04-29   62   \n",
       "3  8.679512e+11        5642828      F   2016-04-29     2016-04-29    8   \n",
       "4  8.841186e+12        5642494      F   2016-04-29     2016-04-29   56   \n",
       "\n",
       "       Neighbourhood  Scholarship  Hipertension  Diabetes  Alcoholism  \\\n",
       "0    JARDIM DA PENHA            0             1         0           0   \n",
       "1    JARDIM DA PENHA            0             0         0           0   \n",
       "2      MATA DA PRAIA            0             0         0           0   \n",
       "3  PONTAL DE CAMBURI            0             0         0           0   \n",
       "4    JARDIM DA PENHA            0             1         1           0   \n",
       "\n",
       "   Handcap  SMS_received No-show  \n",
       "0        0             0      No  \n",
       "1        0             0      No  \n",
       "2        0             0      No  \n",
       "3        0             0      No  \n",
       "4        0             0      No  "
      ]
     },
     "execution_count": 15,
     "metadata": {},
     "output_type": "execute_result"
    }
   ],
   "source": [
    "## Delete case which is invalid age\n",
    "print(\"the number of cases after deleting invalid age: \"+str(len(noshow_dt.query('Age >= 0'))))\n",
    "noshow_dt = noshow_dt.query('Age >= 0')\n",
    "noshow_dt.head()"
   ]
  },
  {
   "cell_type": "code",
   "execution_count": 16,
   "metadata": {},
   "outputs": [
    {
     "name": "stdout",
     "output_type": "stream",
     "text": [
      "the number of cases after deleting invalid scheduled day: 110521\n"
     ]
    },
    {
     "data": {
      "text/html": [
       "<div>\n",
       "<style scoped>\n",
       "    .dataframe tbody tr th:only-of-type {\n",
       "        vertical-align: middle;\n",
       "    }\n",
       "\n",
       "    .dataframe tbody tr th {\n",
       "        vertical-align: top;\n",
       "    }\n",
       "\n",
       "    .dataframe thead th {\n",
       "        text-align: right;\n",
       "    }\n",
       "</style>\n",
       "<table border=\"1\" class=\"dataframe\">\n",
       "  <thead>\n",
       "    <tr style=\"text-align: right;\">\n",
       "      <th></th>\n",
       "      <th>PatientId</th>\n",
       "      <th>AppointmentID</th>\n",
       "      <th>Gender</th>\n",
       "      <th>ScheduledDay</th>\n",
       "      <th>AppointmentDay</th>\n",
       "      <th>Age</th>\n",
       "      <th>Neighbourhood</th>\n",
       "      <th>Scholarship</th>\n",
       "      <th>Hipertension</th>\n",
       "      <th>Diabetes</th>\n",
       "      <th>Alcoholism</th>\n",
       "      <th>Handcap</th>\n",
       "      <th>SMS_received</th>\n",
       "      <th>No-show</th>\n",
       "    </tr>\n",
       "  </thead>\n",
       "  <tbody>\n",
       "    <tr>\n",
       "      <th>0</th>\n",
       "      <td>2.987250e+13</td>\n",
       "      <td>5642903</td>\n",
       "      <td>F</td>\n",
       "      <td>2016-04-29</td>\n",
       "      <td>2016-04-29</td>\n",
       "      <td>62</td>\n",
       "      <td>JARDIM DA PENHA</td>\n",
       "      <td>0</td>\n",
       "      <td>1</td>\n",
       "      <td>0</td>\n",
       "      <td>0</td>\n",
       "      <td>0</td>\n",
       "      <td>0</td>\n",
       "      <td>No</td>\n",
       "    </tr>\n",
       "    <tr>\n",
       "      <th>1</th>\n",
       "      <td>5.589978e+14</td>\n",
       "      <td>5642503</td>\n",
       "      <td>M</td>\n",
       "      <td>2016-04-29</td>\n",
       "      <td>2016-04-29</td>\n",
       "      <td>56</td>\n",
       "      <td>JARDIM DA PENHA</td>\n",
       "      <td>0</td>\n",
       "      <td>0</td>\n",
       "      <td>0</td>\n",
       "      <td>0</td>\n",
       "      <td>0</td>\n",
       "      <td>0</td>\n",
       "      <td>No</td>\n",
       "    </tr>\n",
       "    <tr>\n",
       "      <th>2</th>\n",
       "      <td>4.262962e+12</td>\n",
       "      <td>5642549</td>\n",
       "      <td>F</td>\n",
       "      <td>2016-04-29</td>\n",
       "      <td>2016-04-29</td>\n",
       "      <td>62</td>\n",
       "      <td>MATA DA PRAIA</td>\n",
       "      <td>0</td>\n",
       "      <td>0</td>\n",
       "      <td>0</td>\n",
       "      <td>0</td>\n",
       "      <td>0</td>\n",
       "      <td>0</td>\n",
       "      <td>No</td>\n",
       "    </tr>\n",
       "    <tr>\n",
       "      <th>3</th>\n",
       "      <td>8.679512e+11</td>\n",
       "      <td>5642828</td>\n",
       "      <td>F</td>\n",
       "      <td>2016-04-29</td>\n",
       "      <td>2016-04-29</td>\n",
       "      <td>8</td>\n",
       "      <td>PONTAL DE CAMBURI</td>\n",
       "      <td>0</td>\n",
       "      <td>0</td>\n",
       "      <td>0</td>\n",
       "      <td>0</td>\n",
       "      <td>0</td>\n",
       "      <td>0</td>\n",
       "      <td>No</td>\n",
       "    </tr>\n",
       "    <tr>\n",
       "      <th>4</th>\n",
       "      <td>8.841186e+12</td>\n",
       "      <td>5642494</td>\n",
       "      <td>F</td>\n",
       "      <td>2016-04-29</td>\n",
       "      <td>2016-04-29</td>\n",
       "      <td>56</td>\n",
       "      <td>JARDIM DA PENHA</td>\n",
       "      <td>0</td>\n",
       "      <td>1</td>\n",
       "      <td>1</td>\n",
       "      <td>0</td>\n",
       "      <td>0</td>\n",
       "      <td>0</td>\n",
       "      <td>No</td>\n",
       "    </tr>\n",
       "  </tbody>\n",
       "</table>\n",
       "</div>"
      ],
      "text/plain": [
       "      PatientId  AppointmentID Gender ScheduledDay AppointmentDay  Age  \\\n",
       "0  2.987250e+13        5642903      F   2016-04-29     2016-04-29   62   \n",
       "1  5.589978e+14        5642503      M   2016-04-29     2016-04-29   56   \n",
       "2  4.262962e+12        5642549      F   2016-04-29     2016-04-29   62   \n",
       "3  8.679512e+11        5642828      F   2016-04-29     2016-04-29    8   \n",
       "4  8.841186e+12        5642494      F   2016-04-29     2016-04-29   56   \n",
       "\n",
       "       Neighbourhood  Scholarship  Hipertension  Diabetes  Alcoholism  \\\n",
       "0    JARDIM DA PENHA            0             1         0           0   \n",
       "1    JARDIM DA PENHA            0             0         0           0   \n",
       "2      MATA DA PRAIA            0             0         0           0   \n",
       "3  PONTAL DE CAMBURI            0             0         0           0   \n",
       "4    JARDIM DA PENHA            0             1         1           0   \n",
       "\n",
       "   Handcap  SMS_received No-show  \n",
       "0        0             0      No  \n",
       "1        0             0      No  \n",
       "2        0             0      No  \n",
       "3        0             0      No  \n",
       "4        0             0      No  "
      ]
     },
     "execution_count": 16,
     "metadata": {},
     "output_type": "execute_result"
    }
   ],
   "source": [
    "## Delete cases which are ScheduledDay > AppointmentDay\n",
    "print(\"the number of cases after deleting invalid scheduled day: \"+str(len(noshow_dt.query(\"AppointmentDay >= ScheduledDay\"))))\n",
    "noshow_dt = noshow_dt.query(\"AppointmentDay >= ScheduledDay\")\n",
    "noshow_dt.head()"
   ]
  },
  {
   "cell_type": "markdown",
   "metadata": {},
   "source": [
    "#### (3) Create some additional features   "
   ]
  },
  {
   "cell_type": "markdown",
   "metadata": {},
   "source": [
    "> + First, the new feature `duration` could be created by `AppointmentDay`-`ScheduledDay`.  \n",
    "<br>  "
   ]
  },
  {
   "cell_type": "code",
   "execution_count": 17,
   "metadata": {},
   "outputs": [
    {
     "data": {
      "text/html": [
       "<div>\n",
       "<style scoped>\n",
       "    .dataframe tbody tr th:only-of-type {\n",
       "        vertical-align: middle;\n",
       "    }\n",
       "\n",
       "    .dataframe tbody tr th {\n",
       "        vertical-align: top;\n",
       "    }\n",
       "\n",
       "    .dataframe thead th {\n",
       "        text-align: right;\n",
       "    }\n",
       "</style>\n",
       "<table border=\"1\" class=\"dataframe\">\n",
       "  <thead>\n",
       "    <tr style=\"text-align: right;\">\n",
       "      <th></th>\n",
       "      <th>PatientId</th>\n",
       "      <th>AppointmentID</th>\n",
       "      <th>Gender</th>\n",
       "      <th>ScheduledDay</th>\n",
       "      <th>AppointmentDay</th>\n",
       "      <th>Age</th>\n",
       "      <th>Neighbourhood</th>\n",
       "      <th>Scholarship</th>\n",
       "      <th>Hipertension</th>\n",
       "      <th>Diabetes</th>\n",
       "      <th>Alcoholism</th>\n",
       "      <th>Handcap</th>\n",
       "      <th>SMS_received</th>\n",
       "      <th>No-show</th>\n",
       "      <th>duration</th>\n",
       "    </tr>\n",
       "  </thead>\n",
       "  <tbody>\n",
       "    <tr>\n",
       "      <th>0</th>\n",
       "      <td>2.987250e+13</td>\n",
       "      <td>5642903</td>\n",
       "      <td>F</td>\n",
       "      <td>2016-04-29</td>\n",
       "      <td>2016-04-29</td>\n",
       "      <td>62</td>\n",
       "      <td>JARDIM DA PENHA</td>\n",
       "      <td>0</td>\n",
       "      <td>1</td>\n",
       "      <td>0</td>\n",
       "      <td>0</td>\n",
       "      <td>0</td>\n",
       "      <td>0</td>\n",
       "      <td>No</td>\n",
       "      <td>0</td>\n",
       "    </tr>\n",
       "    <tr>\n",
       "      <th>1</th>\n",
       "      <td>5.589978e+14</td>\n",
       "      <td>5642503</td>\n",
       "      <td>M</td>\n",
       "      <td>2016-04-29</td>\n",
       "      <td>2016-04-29</td>\n",
       "      <td>56</td>\n",
       "      <td>JARDIM DA PENHA</td>\n",
       "      <td>0</td>\n",
       "      <td>0</td>\n",
       "      <td>0</td>\n",
       "      <td>0</td>\n",
       "      <td>0</td>\n",
       "      <td>0</td>\n",
       "      <td>No</td>\n",
       "      <td>0</td>\n",
       "    </tr>\n",
       "    <tr>\n",
       "      <th>2</th>\n",
       "      <td>4.262962e+12</td>\n",
       "      <td>5642549</td>\n",
       "      <td>F</td>\n",
       "      <td>2016-04-29</td>\n",
       "      <td>2016-04-29</td>\n",
       "      <td>62</td>\n",
       "      <td>MATA DA PRAIA</td>\n",
       "      <td>0</td>\n",
       "      <td>0</td>\n",
       "      <td>0</td>\n",
       "      <td>0</td>\n",
       "      <td>0</td>\n",
       "      <td>0</td>\n",
       "      <td>No</td>\n",
       "      <td>0</td>\n",
       "    </tr>\n",
       "    <tr>\n",
       "      <th>3</th>\n",
       "      <td>8.679512e+11</td>\n",
       "      <td>5642828</td>\n",
       "      <td>F</td>\n",
       "      <td>2016-04-29</td>\n",
       "      <td>2016-04-29</td>\n",
       "      <td>8</td>\n",
       "      <td>PONTAL DE CAMBURI</td>\n",
       "      <td>0</td>\n",
       "      <td>0</td>\n",
       "      <td>0</td>\n",
       "      <td>0</td>\n",
       "      <td>0</td>\n",
       "      <td>0</td>\n",
       "      <td>No</td>\n",
       "      <td>0</td>\n",
       "    </tr>\n",
       "    <tr>\n",
       "      <th>4</th>\n",
       "      <td>8.841186e+12</td>\n",
       "      <td>5642494</td>\n",
       "      <td>F</td>\n",
       "      <td>2016-04-29</td>\n",
       "      <td>2016-04-29</td>\n",
       "      <td>56</td>\n",
       "      <td>JARDIM DA PENHA</td>\n",
       "      <td>0</td>\n",
       "      <td>1</td>\n",
       "      <td>1</td>\n",
       "      <td>0</td>\n",
       "      <td>0</td>\n",
       "      <td>0</td>\n",
       "      <td>No</td>\n",
       "      <td>0</td>\n",
       "    </tr>\n",
       "  </tbody>\n",
       "</table>\n",
       "</div>"
      ],
      "text/plain": [
       "      PatientId  AppointmentID Gender ScheduledDay AppointmentDay  Age  \\\n",
       "0  2.987250e+13        5642903      F   2016-04-29     2016-04-29   62   \n",
       "1  5.589978e+14        5642503      M   2016-04-29     2016-04-29   56   \n",
       "2  4.262962e+12        5642549      F   2016-04-29     2016-04-29   62   \n",
       "3  8.679512e+11        5642828      F   2016-04-29     2016-04-29    8   \n",
       "4  8.841186e+12        5642494      F   2016-04-29     2016-04-29   56   \n",
       "\n",
       "       Neighbourhood  Scholarship  Hipertension  Diabetes  Alcoholism  \\\n",
       "0    JARDIM DA PENHA            0             1         0           0   \n",
       "1    JARDIM DA PENHA            0             0         0           0   \n",
       "2      MATA DA PRAIA            0             0         0           0   \n",
       "3  PONTAL DE CAMBURI            0             0         0           0   \n",
       "4    JARDIM DA PENHA            0             1         1           0   \n",
       "\n",
       "   Handcap  SMS_received No-show  duration  \n",
       "0        0             0      No         0  \n",
       "1        0             0      No         0  \n",
       "2        0             0      No         0  \n",
       "3        0             0      No         0  \n",
       "4        0             0      No         0  "
      ]
     },
     "execution_count": 17,
     "metadata": {},
     "output_type": "execute_result"
    }
   ],
   "source": [
    "## additional feature 1: duration\n",
    "noshow_dt['duration'] = noshow_dt['AppointmentDay']-noshow_dt['ScheduledDay']\n",
    "### change the type of 'duration' to numeric\n",
    "noshow_dt['duration'] = noshow_dt['duration'].astype(str).str[0:3].str.replace(\"d\",\"\").astype(int)\n",
    "\n",
    "noshow_dt.head()"
   ]
  },
  {
   "cell_type": "markdown",
   "metadata": {},
   "source": [
    "> + Second, the new feature `no_prior_noshow_rate` could be created using the prior no-show experiences of each patients.  "
   ]
  },
  {
   "cell_type": "code",
   "execution_count": 18,
   "metadata": {},
   "outputs": [],
   "source": [
    "## additional feature 2: no_prior_noshow_rate\n",
    "\n",
    "### convert value type of PatientId to string\n",
    "noshow_dt['PatientId'] = noshow_dt['PatientId'].astype(np.int64).astype(str)\n",
    "\n",
    "### add 'noshow_num' column: if 'No-show'=='Yes' noshow_num = 1, else noshow_num = 0\n",
    "noshow_num = {'Yes': 1, 'No': 0}\n",
    "noshow_dt['noshow_num'] = noshow_dt['No-show'].replace(noshow_num)\n",
    "noshow_dt.head(10)\n",
    "\n",
    "### sort noshow_dt\n",
    "noshow_dt_sort = noshow_dt.sort_values(['PatientId','ScheduledDay'])\n"
   ]
  },
  {
   "cell_type": "code",
   "execution_count": 19,
   "metadata": {},
   "outputs": [
    {
     "name": "stdout",
     "output_type": "stream",
     "text": [
      "103284    111415561531417\n",
      "105717    111415561531417\n",
      "108755     11163631268489\n",
      "109197     11163631268489\n",
      "88388      11163631268489\n",
      "99256      11185168812884\n",
      "90243      11198934419925\n",
      "110232    112114682124172\n",
      "21351       1122443646527\n",
      "4286        1122443646527\n",
      "4981        1124221426471\n",
      "39548       1124221426471\n",
      "64599       1124221426471\n",
      "4953        1124221426471\n",
      "74508       1124221426471\n",
      "5031        1128289566636\n",
      "13058       1128289566636\n",
      "27107     112873513999765\n",
      "36650     112873513999765\n",
      "36700     112873513999765\n",
      "39942     112873513999765\n",
      "106907      1131772254775\n",
      "42493     113349441268785\n",
      "42520     113349441268785\n",
      "64358     113875872765418\n",
      "64359     113875872765418\n",
      "92867     113875872765418\n",
      "84926     113952483828156\n",
      "100138    113952483828156\n",
      "1557        1144471549922\n",
      "               ...       \n",
      "52051       9983377194718\n",
      "37966      99857896393914\n",
      "32856     998695728115913\n",
      "57534     998695728115913\n",
      "66248      99871477366383\n",
      "66216      99871477366383\n",
      "66219      99871477366383\n",
      "66243      99871477366383\n",
      "66245      99871477366383\n",
      "92642      99871477366383\n",
      "92643      99871477366383\n",
      "71630       9987888371193\n",
      "88718       9987888371193\n",
      "103893       998887277653\n",
      "3661         999271869247\n",
      "102170      9994328955474\n",
      "51735     999479168794227\n",
      "53708       9995994929266\n",
      "55217       9995994929266\n",
      "53542       9995994929266\n",
      "53739       9995994929266\n",
      "54752       9995994929266\n",
      "53541       9995994929266\n",
      "53750       9995994929266\n",
      "95210       9995994929266\n",
      "95216       9995994929266\n",
      "95235       9995994929266\n",
      "88971      99966898398164\n",
      "94194      99966898398164\n",
      "1641        9999951146446\n",
      "Name: PatientId, Length: 7879, dtype: object\n"
     ]
    },
    {
     "data": {
      "text/html": [
       "<div>\n",
       "<style scoped>\n",
       "    .dataframe tbody tr th:only-of-type {\n",
       "        vertical-align: middle;\n",
       "    }\n",
       "\n",
       "    .dataframe tbody tr th {\n",
       "        vertical-align: top;\n",
       "    }\n",
       "\n",
       "    .dataframe thead th {\n",
       "        text-align: right;\n",
       "    }\n",
       "</style>\n",
       "<table border=\"1\" class=\"dataframe\">\n",
       "  <thead>\n",
       "    <tr style=\"text-align: right;\">\n",
       "      <th></th>\n",
       "      <th>PatientId</th>\n",
       "      <th>ScheduledDay</th>\n",
       "      <th>cumsum_col</th>\n",
       "      <th>cumcount_col</th>\n",
       "    </tr>\n",
       "  </thead>\n",
       "  <tbody>\n",
       "    <tr>\n",
       "      <th>102959</th>\n",
       "      <td>112873513999765</td>\n",
       "      <td>2016-03-17</td>\n",
       "      <td>1</td>\n",
       "      <td>1</td>\n",
       "    </tr>\n",
       "    <tr>\n",
       "      <th>27107</th>\n",
       "      <td>112873513999765</td>\n",
       "      <td>2016-04-07</td>\n",
       "      <td>2</td>\n",
       "      <td>2</td>\n",
       "    </tr>\n",
       "    <tr>\n",
       "      <th>36650</th>\n",
       "      <td>112873513999765</td>\n",
       "      <td>2016-04-27</td>\n",
       "      <td>3</td>\n",
       "      <td>3</td>\n",
       "    </tr>\n",
       "    <tr>\n",
       "      <th>36700</th>\n",
       "      <td>112873513999765</td>\n",
       "      <td>2016-05-03</td>\n",
       "      <td>3</td>\n",
       "      <td>4</td>\n",
       "    </tr>\n",
       "    <tr>\n",
       "      <th>39942</th>\n",
       "      <td>112873513999765</td>\n",
       "      <td>2016-05-30</td>\n",
       "      <td>3</td>\n",
       "      <td>5</td>\n",
       "    </tr>\n",
       "  </tbody>\n",
       "</table>\n",
       "</div>"
      ],
      "text/plain": [
       "              PatientId ScheduledDay  cumsum_col  cumcount_col\n",
       "102959  112873513999765   2016-03-17           1             1\n",
       "27107   112873513999765   2016-04-07           2             2\n",
       "36650   112873513999765   2016-04-27           3             3\n",
       "36700   112873513999765   2016-05-03           3             4\n",
       "39942   112873513999765   2016-05-30           3             5"
      ]
     },
     "execution_count": 19,
     "metadata": {},
     "output_type": "execute_result"
    }
   ],
   "source": [
    "### create the no. of prior no-show rate\n",
    "\n",
    "#### step 1. calculate cumulative sum of no-show and cumulative count groupby PatientId\n",
    "noshow_dt_sort['cumsum_col'] = noshow_dt_sort.groupby(['PatientId'])['noshow_num'].cumsum()\n",
    "noshow_dt_sort['cumcount_col'] = noshow_dt_sort.groupby(['PatientId']).cumcount()+1\n",
    "\n",
    "####### check whether calculation did well\n",
    "\n",
    "##### row-index which the cumulative no-show is more than 1\n",
    "ind = noshow_dt_sort.groupby(['PatientId'])['noshow_num'].cumsum() >= 2\n",
    "\n",
    "##### glance the PatientIds which were corresponded the condition \n",
    "print(noshow_dt_sort[ind]['PatientId'])\n",
    "\n",
    "##### check the data: in the case of PatientId=='112873513999765'\n",
    "noshow_dt_sort.query(\"PatientId=='112873513999765'\").loc[:,['PatientId','ScheduledDay','cumsum_col','cumcount_col']]"
   ]
  },
  {
   "cell_type": "markdown",
   "metadata": {},
   "source": [
    "> + As we can see, the patient '112873513999765' have three-times 'no-show appointment'.  \n",
    "> <br>  \n",
    "> + Now, the new feature `no_prior_noshow_rate` could be created by `cumsum_col`/`cumcount_col`. \n",
    "> <br> "
   ]
  },
  {
   "cell_type": "code",
   "execution_count": 20,
   "metadata": {},
   "outputs": [
    {
     "data": {
      "text/html": [
       "<div>\n",
       "<style scoped>\n",
       "    .dataframe tbody tr th:only-of-type {\n",
       "        vertical-align: middle;\n",
       "    }\n",
       "\n",
       "    .dataframe tbody tr th {\n",
       "        vertical-align: top;\n",
       "    }\n",
       "\n",
       "    .dataframe thead th {\n",
       "        text-align: right;\n",
       "    }\n",
       "</style>\n",
       "<table border=\"1\" class=\"dataframe\">\n",
       "  <thead>\n",
       "    <tr style=\"text-align: right;\">\n",
       "      <th></th>\n",
       "      <th>PatientId</th>\n",
       "      <th>ScheduledDay</th>\n",
       "      <th>cumsum_col</th>\n",
       "      <th>cumcount_col</th>\n",
       "      <th>no_prior_noshow_rate</th>\n",
       "    </tr>\n",
       "  </thead>\n",
       "  <tbody>\n",
       "    <tr>\n",
       "      <th>102959</th>\n",
       "      <td>112873513999765</td>\n",
       "      <td>2016-03-17</td>\n",
       "      <td>1</td>\n",
       "      <td>1</td>\n",
       "      <td>1.00</td>\n",
       "    </tr>\n",
       "    <tr>\n",
       "      <th>27107</th>\n",
       "      <td>112873513999765</td>\n",
       "      <td>2016-04-07</td>\n",
       "      <td>2</td>\n",
       "      <td>2</td>\n",
       "      <td>1.00</td>\n",
       "    </tr>\n",
       "    <tr>\n",
       "      <th>36650</th>\n",
       "      <td>112873513999765</td>\n",
       "      <td>2016-04-27</td>\n",
       "      <td>3</td>\n",
       "      <td>3</td>\n",
       "      <td>1.00</td>\n",
       "    </tr>\n",
       "    <tr>\n",
       "      <th>36700</th>\n",
       "      <td>112873513999765</td>\n",
       "      <td>2016-05-03</td>\n",
       "      <td>3</td>\n",
       "      <td>4</td>\n",
       "      <td>0.75</td>\n",
       "    </tr>\n",
       "    <tr>\n",
       "      <th>39942</th>\n",
       "      <td>112873513999765</td>\n",
       "      <td>2016-05-30</td>\n",
       "      <td>3</td>\n",
       "      <td>5</td>\n",
       "      <td>0.60</td>\n",
       "    </tr>\n",
       "  </tbody>\n",
       "</table>\n",
       "</div>"
      ],
      "text/plain": [
       "              PatientId ScheduledDay  cumsum_col  cumcount_col  \\\n",
       "102959  112873513999765   2016-03-17           1             1   \n",
       "27107   112873513999765   2016-04-07           2             2   \n",
       "36650   112873513999765   2016-04-27           3             3   \n",
       "36700   112873513999765   2016-05-03           3             4   \n",
       "39942   112873513999765   2016-05-30           3             5   \n",
       "\n",
       "        no_prior_noshow_rate  \n",
       "102959                  1.00  \n",
       "27107                   1.00  \n",
       "36650                   1.00  \n",
       "36700                   0.75  \n",
       "39942                   0.60  "
      ]
     },
     "execution_count": 20,
     "metadata": {},
     "output_type": "execute_result"
    }
   ],
   "source": [
    "#### step 2. calculate no. of prior no-show rate by PatientIds\n",
    "noshow_dt_sort['no_prior_noshow_rate'] = noshow_dt_sort['cumsum_col']/ noshow_dt_sort['cumcount_col']\n",
    "\n",
    "###### check the data: in the case of PatientId=='112873513999765'\n",
    "noshow_dt_sort.query(\"PatientId=='112873513999765'\").loc[:,['PatientId','ScheduledDay','cumsum_col','cumcount_col','no_prior_noshow_rate']]"
   ]
  },
  {
   "cell_type": "markdown",
   "metadata": {},
   "source": [
    "> + As we can see, the `no_prior_noshow_rate` feature has been created well.  \n",
    "<br>  \n",
    "> + Finally, We'll finalize the cleaned data to assign to the new object named `noshow_dt_fin`.  \n",
    "<br>  "
   ]
  },
  {
   "cell_type": "code",
   "execution_count": 116,
   "metadata": {},
   "outputs": [
    {
     "name": "stdout",
     "output_type": "stream",
     "text": [
      "(110521, 17)\n"
     ]
    }
   ],
   "source": [
    "#### Finalize\n",
    "\n",
    "##### sort by row-index and drop useless columns\n",
    "noshow_dt_fin = noshow_dt_sort.sort_index().drop(['cumsum_col','cumcount_col'],axis=1)\n",
    "\n",
    "### check the shape of cleaned data\n",
    "print(noshow_dt_fin.shape)\n",
    "\n",
    "### glance the first a few rows of cleaned data\n",
    "noshow_dt_fin.head()\n",
    "\n",
    "### save to csv file\n",
    "noshow_dt_fin.to_csv('noshowappointments-kagglev2-may-2016_cleaned.csv')"
   ]
  },
  {
   "cell_type": "markdown",
   "metadata": {},
   "source": [
    "<a id='eda'></a>\n",
    "## Exploratory Data Analysis\n",
    "<br> \n",
    "<br>  \n",
    "### Q1. Is there gender differences on whether the patients attending the appointment or not?"
   ]
  },
  {
   "cell_type": "code",
   "execution_count": 22,
   "metadata": {},
   "outputs": [
    {
     "name": "stdout",
     "output_type": "stream",
     "text": [
      "No-show  Gender\n",
      "No       F         57245\n",
      "         M         30962\n",
      "Yes      F         14591\n",
      "         M          7723\n",
      "Name: Gender, dtype: int64\n",
      "No-show  Gender\n",
      "No       F         0.648985\n",
      "         M         0.351015\n",
      "Yes      F         0.653894\n",
      "         M         0.346106\n",
      "Name: Gender, dtype: float64\n"
     ]
    },
    {
     "data": {
      "image/png": "[encoded data removed]",
      "text/plain": [
       "<Figure size 432x288 with 1 Axes>"
      ]
     },
     "metadata": {},
     "output_type": "display_data"
    }
   ],
   "source": [
    "## Frequency of Gender for No-show group\n",
    "print(noshow_dt_fin.groupby('No-show')['Gender'].value_counts())\n",
    "\n",
    "## Proportion of Gender for No-show group\n",
    "print(noshow_dt_fin.groupby('No-show')['Gender'].value_counts(normalize=True))\n",
    "\n",
    "## plotting gender difference about no-show\n",
    "sns.set_style('whitegrid')\n",
    "sns.set_context('talk')\n",
    "plot1 = sns.barplot(x='Gender',y='noshow_num', data=noshow_dt_fin, palette='Set3',ci=None)\n",
    "plt.title(\"No-show rates between Gender\")\n",
    "plot1.set(ylabel=\"No-show Rate\",ylim=(0,0.6),xticklabels=['Female','Male'],yticklabels=['0%','10%','20%','30%','40%','50%','60%'])\n",
    "plt.show()"
   ]
  },
  {
   "cell_type": "markdown",
   "metadata": {},
   "source": [
    "> + As we can see above, It seems like that there is few difference on patients' no-show rate between gender."
   ]
  },
  {
   "cell_type": "markdown",
   "metadata": {},
   "source": [
    "###  Q2. Is there any impact the patients' age on whether the patients attending the appointment or not?"
   ]
  },
  {
   "cell_type": "code",
   "execution_count": 94,
   "metadata": {},
   "outputs": [
    {
     "name": "stdout",
     "output_type": "stream",
     "text": [
      "              mean        std  median  min  max\n",
      "No-show                                        \n",
      "No       37.790504  23.338645      38    0  115\n",
      "Yes      34.317872  21.965009      33    0  115\n"
     ]
    },
    {
     "data": {
      "image/png": "[encoded data removed]",
      "text/plain": [
       "<Figure size 1296x504 with 2 Axes>"
      ]
     },
     "metadata": {},
     "output_type": "display_data"
    }
   ],
   "source": [
    "### descriptive statistics for Ages by No-show appointment or not\n",
    "print(noshow_dt_fin.groupby('No-show')['Age'].agg([np.mean,np.std,np.median, min, max]))\n",
    "\n",
    "### setting subplot: 1*2\n",
    "fig, ((ax1,ax2)) = plt.subplots(nrows=1, ncols=2)\n",
    "fig.set_size_inches(18,7)\n",
    "\n",
    "### plotting histogram\n",
    "sns.set_style('whitegrid')\n",
    "sns.set_context('talk')\n",
    "sns.distplot(noshow_dt_fin[noshow_dt_fin['No-show']=='No']['Age'],color=\"royalblue\",ax=ax1)\n",
    "sns.distplot(noshow_dt_fin[noshow_dt_fin['No-show']=='Yes']['Age'],color=\"salmon\",ax=ax1)\n",
    "ax1.set(title='Distribution for Age between No-show appointment or not')\n",
    "ax1.legend(['No','Yes'])\n",
    "\n",
    "### plotting boxplot\n",
    "plot2 = sns.boxplot(x='No-show',y='Age',data=noshow_dt_fin,orient='v',palette=\"Set3\",ax=ax2)\n",
    "plt.title(\"Boxplots of Ages between No-show appointment or not\")\n",
    "plot2.set(ylabel=\"Age\",xticklabels=['No','Yes'])\n",
    "plt.show()"
   ]
  },
  {
   "cell_type": "markdown",
   "metadata": {},
   "source": [
    "> + In the case of Age, It is slightly different between No-show appointment patients and not.  \n",
    "> <br>  \n",
    "> + It seems likely that No-show appointment patients may be younger than patients who attend the appointment, but it's not a large difference.  \n",
    "> <br>  \n",
    "> + The distribution for age of patients who attend the appointment is seems like bimodal.  \n",
    "> <br>  "
   ]
  },
  {
   "cell_type": "markdown",
   "metadata": {},
   "source": [
    "### Q3. is there any impacts whether the patient have received SMS messages or not on the patients attending the appointment or not?"
   ]
  },
  {
   "cell_type": "code",
   "execution_count": 95,
   "metadata": {},
   "outputs": [
    {
     "name": "stdout",
     "output_type": "stream",
     "text": [
      "SMS_received\n",
      "0    0.166980\n",
      "1    0.275745\n",
      "Name: noshow_num, dtype: float64\n"
     ]
    },
    {
     "data": {
      "image/png": "[encoded data removed]",
      "text/plain": [
       "<Figure size 432x288 with 1 Axes>"
      ]
     },
     "metadata": {},
     "output_type": "display_data"
    }
   ],
   "source": [
    "## No-show rates between patients who had been received the SMS messages or not\n",
    "print(noshow_dt_fin.groupby('SMS_received')['noshow_num'].agg(np.mean))\n",
    "\n",
    "## plotting no-show rates between patients who had been received the SMS messages or not\n",
    "plot3 = sns.barplot(x='SMS_received',y='noshow_num',data=noshow_dt_fin,ci=None,palette=\"Set3\")\n",
    "plt.title(\"No-show rates \\n between patients who had received SMS\")\n",
    "plot3.set(xlabel=\"SMS received\",ylabel=\"No-show Rate\",ylim=(0,0.6),xticklabels=['Not received','Received'],yticklabels=['0%','10%','20%','30%','40%','50%','60%'])\n",
    "plt.show()"
   ]
  },
  {
   "cell_type": "markdown",
   "metadata": {},
   "source": [
    "> + It seems like that the patients who have received SMS messages could have done more likely the No-show appointment than the patients who have not received SMS.  \n",
    "> <br>  "
   ]
  },
  {
   "cell_type": "markdown",
   "metadata": {},
   "source": [
    "### Q4. Is there any impact the duration from scheduled day to appointment day on whether the patients attending the appointment or not?"
   ]
  },
  {
   "cell_type": "code",
   "execution_count": 104,
   "metadata": {},
   "outputs": [
    {
     "name": "stdout",
     "output_type": "stream",
     "text": [
      "              mean       std  median  min  max\n",
      "No-show                                       \n",
      "No        8.754759  14.55045       2    0  179\n",
      "Yes      15.835484  16.60560      11    0  179\n"
     ]
    },
    {
     "data": {
      "image/png": "[encoded data removed]",
      "text/plain": [
       "<Figure size 1296x504 with 2 Axes>"
      ]
     },
     "metadata": {},
     "output_type": "display_data"
    }
   ],
   "source": [
    "### Descript statistics\n",
    "print(noshow_dt_fin.groupby('No-show')['duration'].agg([np.mean,np.std,np.median,min,max]))\n",
    "\n",
    "### setting subplot: 1*2\n",
    "fig, ((ax1,ax2)) = plt.subplots(nrows=1, ncols=2)\n",
    "fig.set_size_inches(18,7)\n",
    "\n",
    "### density plot\n",
    "sns.set_style('whitegrid')\n",
    "sns.set_context('talk')\n",
    "q4_1 = sns.distplot(noshow_dt_fin[noshow_dt_fin['No-show']=='No']['duration'],hist=False,color=\"royalblue\",label=\"No\",ax=ax1)\n",
    "q4_2 = sns.distplot(noshow_dt_fin[noshow_dt_fin['No-show']=='Yes']['duration'],hist=False,color=\"salmon\",label=\"Yes\",ax=ax1)\n",
    "ax1.set(xlabel=\"Duration (Days)\",title=\"Distribution for duration between No-show appointment and not\")\n",
    "## bar\n",
    "sns.barplot(data=noshow_dt_fin,x='No-show',y='duration',ax=ax2,palette=\"Set3\",ci=None)\n",
    "ax2.set(ylabel=\"Duration (Days)\",title=\"Boxplot for duration between No-show appointment and not \")\n",
    "plt.show()"
   ]
  },
  {
   "cell_type": "markdown",
   "metadata": {},
   "source": [
    "> + It seems likely different for durations between patients who have had no-show appointment and not.\n",
    "> <br>\n",
    "> + Patients who are more likely to make a no-show appointment tend to more difference from the scheduled day to appointment day.  \n",
    "> <br>\n"
   ]
  },
  {
   "cell_type": "markdown",
   "metadata": {},
   "source": [
    "###  Q5. Is there any impact the prior no-show rate of the patients on whether the patients attending the appointment or not?"
   ]
  },
  {
   "cell_type": "code",
   "execution_count": 115,
   "metadata": {},
   "outputs": [
    {
     "name": "stdout",
     "output_type": "stream",
     "text": [
      "No-show\n",
      "No     0.054393\n",
      "Yes    0.832700\n",
      "Name: no_prior_noshow_rate, dtype: float64\n"
     ]
    },
    {
     "data": {
      "image/png": "[encoded data removed]",
      "text/plain": [
       "<Figure size 1296x504 with 2 Axes>"
      ]
     },
     "metadata": {},
     "output_type": "display_data"
    }
   ],
   "source": [
    "### descriptive statistics\n",
    "print(noshow_dt_fin.groupby('No-show')['no_prior_noshow_rate'].agg(np.mean))\n",
    "\n",
    "### setting subplot: 1*2\n",
    "fig, ((ax1,ax2)) = plt.subplots(nrows=1, ncols=2)\n",
    "fig.set_size_inches(18,7)\n",
    "\n",
    "sns.distplot(noshow_dt_fin[noshow_dt_fin['No-show']=='No']['no_prior_noshow_rate'],hist=False,color=\"royalblue\",label=\"No\",ax=ax1)\n",
    "sns.distplot(noshow_dt_fin[noshow_dt_fin['No-show']=='Yes']['no_prior_noshow_rate'],hist=False,color=\"salmon\",label=\"Yes\",ax=ax1)\n",
    "ax1.set(xlabel=\"No. of Prior No-show Rate\",title=\"Distriburion for No. of Prior No-show Rate\",\n",
    "       xlim=[0,1.1],\n",
    "        xticklabels=['0.0%','20.0%','40.0%','60.0%','80.0%','100.0%'])\n",
    "\n",
    "sns.barplot(x='No-show',y='no_prior_noshow_rate',data=noshow_dt_fin,palette=\"Set3\",ci=None,ax=ax2)\n",
    "ax2.set(ylabel=\"No. of Prior No-show Rate\",title=\"Difference for No. of Prior No-show Rate\",\n",
    "       ylim=[0,1],\n",
    "        yticklabels=['0.0%','20.0%','40.0%','60.0%','80.0%','100.0%'])\n",
    "plt.show()"
   ]
  },
  {
   "cell_type": "markdown",
   "metadata": {},
   "source": [
    "> + It seems likely that the the more the patients have experienced previously making no-show appointments, the more likely they are to make no-show appointments.  \n",
    "> <br>  \n",
    "> + the \"prior no-show rate\" could be very important feature for predicting no-show appointments.  \n",
    "> <br>  "
   ]
  },
  {
   "cell_type": "markdown",
   "metadata": {},
   "source": [
    "<a id='conclusions'></a>\n",
    "## Conclusions\n",
    "\n",
    "> Some conclusions after investigate the no-show appointments data could be presented following:  \n",
    "> <br>   \n",
    "> + Q1. Is there gender differences on whether the patients attending the appointment or not?   \n",
    ">   + As we can see above, There is few difference on patients' no-show rate between gender. So, the gender of the patients is hard to see as an important feature for predicting no-show appointments.    \n",
    "> <br>  \n",
    "> + Q2. Is there any impact the patients' age on whether the patients attending the appointment or not?  \n",
    ">   + Because There is just \"very slightly\" different to age between the patients who make No-show appointment patients and not, the age of patients is hard to see as an important feature for predicting no-show appointments, too.   \n",
    "> <br>   \n",
    "> + Q3. is there any impacts whether the patient have received SMS messages or not on the patients attending the appointment or not?   \n",
    ">   + It seems like that the patients who have received SMS messages could have done more likely the No-show appointment than the patients who have not received SMS.  \n",
    ">   + However, since this conclusion may be difficult to accept in common sense, additional data collection may be required to explore more accurate relationships between SMS reception and no-show appointments.  \n",
    "> <br>  \n",
    "> + Q4. Is there any impact the duration from scheduled day to appointment day on whether the patients attending the appointment or not?  \n",
    ">   + the duration, which means the difference from scheduled day to appointment day, could be considered as one of the important features for predicting the no-show appointments.\n",
    ">   + Patients who are more likely to make a no-show appointment tend to more difference from the scheduled day to appointment day.  \n",
    "> <br>  \n",
    "> + Q5. Is there any impact the prior no-show rate of the patients on whether the patients attending the appointment or not?    \n",
    ">   + From the results of the investigation, the prior no-show rate of the patients could be an important feature for predicting the no-show appointments.  \n",
    "> <br>  \n"
   ]
  }
 ],
 "metadata": {
  "kernelspec": {
   "display_name": "Python 3",
   "language": "python",
   "name": "python3"
  },
  "language_info": {
   "codemirror_mode": {
    "name": "ipython",
    "version": 3
   },
   "file_extension": ".py",
   "mimetype": "text/x-python",
   "name": "python",
   "nbconvert_exporter": "python",
   "pygments_lexer": "ipython3",
   "version": "3.7.3"
  }
 },
 "nbformat": 4,
 "nbformat_minor": 2
}
